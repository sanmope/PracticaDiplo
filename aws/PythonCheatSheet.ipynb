{
  "nbformat": 4,
  "nbformat_minor": 0,
  "metadata": {
    "kernelspec": {
      "display_name": "conda_python3",
      "language": "python",
      "name": "conda_python3"
    },
    "language_info": {
      "codemirror_mode": {
        "name": "ipython",
        "version": 3
      },
      "file_extension": ".py",
      "mimetype": "text/x-python",
      "name": "python",
      "nbconvert_exporter": "python",
      "pygments_lexer": "ipython3",
      "version": "3.6.10"
    },
    "colab": {
      "name": "PythonCheatSheet.ipynb",
      "provenance": [],
      "include_colab_link": true
    }
  },
  "cells": [
    {
      "cell_type": "markdown",
      "metadata": {
        "id": "view-in-github",
        "colab_type": "text"
      },
      "source": [
        "<a href=\"https://colab.research.google.com/github/sanmope/PracticaDiplo/blob/master/aws/PythonCheatSheet.ipynb\" target=\"_parent\"><img src=\"https://colab.research.google.com/assets/colab-badge.svg\" alt=\"Open In Colab\"/></a>"
      ]
    },
    {
      "cell_type": "markdown",
      "metadata": {
        "id": "bz8bQgNB-0-3"
      },
      "source": [
        "# Python Cheatsheet "
      ]
    },
    {
      "cell_type": "markdown",
      "metadata": {
        "id": "slQuoNNq-0-4"
      },
      "source": [
        "## Contents  \n",
        "1. <a href='#section1'>Syntax and whitespace</a>\n",
        "2. <a href='#section2'>Comments</a>\n",
        "3. <a href='#section3'>Numbers and operations</a>\n",
        "4. <a href='#section4'>String manipulation</a>\n",
        "5. <a href='#section5'>Lists, tuples, and dictionaries</a>\n",
        "6. <a href='#section6'>JSON</a>\n",
        "7. <a href='#section7'>Loops</a>\n",
        "8. <a href='#section8'>File handling</a>\n",
        "9. <a href='#section9'>Functions</a>\n",
        "10. <a href='#section10'>Working with datetime</a>\n",
        "11. <a href='#section11'>NumPy</a>\n",
        "12. <a href='#section12'>Pandas</a>"
      ]
    },
    {
      "cell_type": "markdown",
      "metadata": {
        "id": "jGAYXHOf-0-5"
      },
      "source": [
        "To run a cell, press **Shift+Enter** or click **Run** at the top of the page."
      ]
    },
    {
      "cell_type": "markdown",
      "metadata": {
        "id": "UFIiLmoH-0-6"
      },
      "source": [
        "<a id=\"section_1\"></a>\n",
        "\n",
        "## 1. Syntax and whitespace\n",
        "Python uses indented space to indicate the level of statements. The following cell is an example where '**if**' and '**else**' are in same level, while '**print**' is separated by space to a different level. Spacing should be the same for items that are on the same level."
      ]
    },
    {
      "cell_type": "code",
      "metadata": {
        "id": "jXkCKudK-0-7",
        "outputId": "f1edc56e-e879-4e3a-8982-0fff472af9ed",
        "colab": {
          "base_uri": "https://localhost:8080/",
          "height": 51
        }
      },
      "source": [
        "student_number = input(\"Enter your student number:\")\n",
        "if student_number != 0:\n",
        "    print(\"Welcome student {}\".format(student_number))\n",
        "else:\n",
        "    print(\"Try again!\")"
      ],
      "execution_count": null,
      "outputs": [
        {
          "output_type": "stream",
          "text": [
            "Enter your student number:71712\n",
            "Welcome student 71712\n"
          ],
          "name": "stdout"
        }
      ]
    },
    {
      "cell_type": "markdown",
      "metadata": {
        "id": "rLYKa0rc-0_B"
      },
      "source": [
        "<a id='section2'></a>\n",
        "\n",
        "## 2. Comments\n",
        "In Python, comments start with hash '#' and extend to the end of the line. '#' can be at the begining of the line or after code. "
      ]
    },
    {
      "cell_type": "code",
      "metadata": {
        "id": "S20Ol6Ms-0_C"
      },
      "source": [
        "# This is code to print hello world!\n",
        "\n",
        "print(\"Hello world!\") # Print statement for hello world\n",
        "print(\"# is not a comment in this case\")"
      ],
      "execution_count": null,
      "outputs": []
    },
    {
      "cell_type": "markdown",
      "metadata": {
        "id": "NXtRUPjS-0_G"
      },
      "source": [
        "<a id='section3'></a>\n",
        "\n",
        "## 3. Numbers and operations\n",
        "\n",
        "Like with other programming languages, there are four types of numbers: \n",
        "- Integers (e.g., 1, 20, 45, 1000) indicated by *int*\n",
        "- Floating point numbers (e.g., 1.25, 20.35, 1000.00) indicated by *float*\n",
        "- Long integers \n",
        "- Complex numbers (e.g., x+2y where x is known)"
      ]
    },
    {
      "cell_type": "markdown",
      "metadata": {
        "id": "GTwSIMeN-0_H"
      },
      "source": [
        "Operation       |      Result\n",
        "----------------|-------------------------------------               \n",
        "x + y\t        |      Sum of x and y\t\n",
        "x - y\t        |      Difference of x and y\t\n",
        "x * y\t        |      Product of x and y\t\n",
        "x / y\t        |      Quotient of x and y\n",
        "x // y\t        |      Quotient of x and y (floored)\n",
        "x % y\t        |      Remainder of x / y\n",
        "abs(x)\t        |      Absolute value of x\t\n",
        "int(x)\t        |      x converted to integer\n",
        "long(x)\t        |      x converted to long integer\n",
        "float(x)\t    |      x converted to floating point\t\n",
        "pow(x, y)\t    |      x to the power y\t\n",
        "x ** y\t        |      x to the power y\t"
      ]
    },
    {
      "cell_type": "code",
      "metadata": {
        "id": "uQRyNbrg-0_I"
      },
      "source": [
        "# Number examples\n",
        "a = 5 + 8\n",
        "print(\"Sum of int numbers: {} and number format is {}\".format(a, type(a)))\n",
        "\n",
        "b = 5 + 2.3\n",
        "print (\"Sum of int and {} and number format is {}\".format(b, type(b)))"
      ],
      "execution_count": null,
      "outputs": []
    },
    {
      "cell_type": "markdown",
      "metadata": {
        "id": "F-J4dzx5-0_M"
      },
      "source": [
        "<a id='section4'></a>\n",
        "\n",
        "## 4. String manipulation\n",
        "\n",
        "Python has rich features like other programming languages for string manipulation."
      ]
    },
    {
      "cell_type": "code",
      "metadata": {
        "id": "HiyyJa30-0_N"
      },
      "source": [
        "# Store strings in a variable\n",
        "test_word = \"hello world to everyone\"\n",
        "\n",
        "# Print the test_word value\n",
        "print(test_word)\n",
        "\n",
        "# Use [] to access the character of the string. The first character is indicated by '0'.\n",
        "print(test_word[0])\n",
        "\n",
        "# Use the len() function to find the length of the string\n",
        "print(len(test_word))\n",
        "\n",
        "# Some examples of finding in strings\n",
        "print(test_word.count('l')) # Count number of times l repeats in the string\n",
        "print(test_word.find(\"o\")) # Find letter 'o' in the string. Returns the position of first match.\n",
        "print(test_word.count(' ')) # Count number of spaces in the string\n",
        "print(test_word.upper()) # Change the string to uppercase\n",
        "print(test_word.lower()) # Change the string to lowercase\n",
        "print(test_word.replace(\"everyone\",\"you\")) # Replace word \"everyone\" with \"you\"\n",
        "print(test_word.title()) # Change string to title format\n",
        "print(test_word + \"!!!\") # Concatenate strings\n",
        "print(\":\".join(test_word)) # Add \":\" between each character\n",
        "print(\"\".join(reversed(test_word))) # Reverse the string "
      ],
      "execution_count": null,
      "outputs": []
    },
    {
      "cell_type": "markdown",
      "metadata": {
        "id": "XyqvOn3Y-0_S"
      },
      "source": [
        "<a id='section5'></a>\n",
        "\n",
        "## 5. Lists, tuples, and dictionaries\n",
        "\n",
        "Python supports data types lists, tuples, dictionaries, and arrays."
      ]
    },
    {
      "cell_type": "markdown",
      "metadata": {
        "id": "EM20Mr6M-0_T"
      },
      "source": [
        "### Lists\n",
        "\n",
        "A list is created by placing all the items (elements) inside square brackets \\[ ] separated by commas. A list can have any number of items, and they may be of different types (integer, float, strings, etc.)."
      ]
    },
    {
      "cell_type": "code",
      "metadata": {
        "id": "6ved6Hb3-0_U"
      },
      "source": [
        "# A Python list is similar to an array. You can create an empty list too.\n",
        "\n",
        "my_list = []\n",
        "\n",
        "first_list = [3, 5, 7, 10]\n",
        "second_list = [1, 'python', 3]"
      ],
      "execution_count": null,
      "outputs": []
    },
    {
      "cell_type": "code",
      "metadata": {
        "id": "HCVFRTj2-0_Y"
      },
      "source": [
        "# Nest multiple lists\n",
        "nested_list = [first_list, second_list]\n",
        "nested_list"
      ],
      "execution_count": null,
      "outputs": []
    },
    {
      "cell_type": "code",
      "metadata": {
        "id": "wKEadcpp-0_c"
      },
      "source": [
        "# Combine multiple lists\n",
        "combined_list = first_list + second_list\n",
        "combined_list"
      ],
      "execution_count": null,
      "outputs": []
    },
    {
      "cell_type": "code",
      "metadata": {
        "id": "eLeAAtS4-0_g"
      },
      "source": [
        "# You can slice a list, just like strings\n",
        "combined_list[0:3]"
      ],
      "execution_count": null,
      "outputs": []
    },
    {
      "cell_type": "code",
      "metadata": {
        "id": "wGCO-U8w-0_k"
      },
      "source": [
        "# Append a new entry to the list\n",
        "combined_list.append(600)\n",
        "combined_list"
      ],
      "execution_count": null,
      "outputs": []
    },
    {
      "cell_type": "code",
      "metadata": {
        "id": "ivrB_iEq-0_o"
      },
      "source": [
        "# Remove the last entry from the list\n",
        "combined_list.pop()"
      ],
      "execution_count": null,
      "outputs": []
    },
    {
      "cell_type": "code",
      "metadata": {
        "id": "737yy_s1-0_s"
      },
      "source": [
        "# Iterate the list\n",
        "for item in combined_list:\n",
        "    print(item)    "
      ],
      "execution_count": null,
      "outputs": []
    },
    {
      "cell_type": "markdown",
      "metadata": {
        "id": "S3ngr-u0-0_v"
      },
      "source": [
        "### Tuples\n",
        "\n",
        "A tuple is similar to a list, but you use them with parentheses ( ) instead of square brackets. The main difference is that a tuple is immutable, while a list is mutable."
      ]
    },
    {
      "cell_type": "code",
      "metadata": {
        "id": "xStx0Fbs-0_w"
      },
      "source": [
        "my_tuple = (1, 2, 3, 4, 5)\n",
        "my_tuple[1:4]"
      ],
      "execution_count": null,
      "outputs": []
    },
    {
      "cell_type": "markdown",
      "metadata": {
        "id": "6c8dLy_c-0_1"
      },
      "source": [
        "### Dictionaries\n",
        "\n",
        "A dictionary is also known as an associative array. A dictionary consists of a collection of key-value pairs. Each key-value pair maps the key to its associated value."
      ]
    },
    {
      "cell_type": "code",
      "metadata": {
        "id": "cqBfV6yg-0_2"
      },
      "source": [
        "desk_location = {'jack': 123, 'joe': 234, 'hary': 543}\n",
        "desk_location['jack']"
      ],
      "execution_count": null,
      "outputs": []
    },
    {
      "cell_type": "markdown",
      "metadata": {
        "id": "3BRsnFJ9-0_5"
      },
      "source": [
        "<a id='section6'></a>\n",
        "\n",
        "## 6. JSON \n",
        "\n",
        "JSON is text writen in JavaScript Object Notation. Python has a built-in package called `json` that can be used to work with JSON data."
      ]
    },
    {
      "cell_type": "code",
      "metadata": {
        "id": "GAp2UWhG-0_6"
      },
      "source": [
        "import json\n",
        "\n",
        "# Sample JSON data\n",
        "x = '{\"first_name\":\"Jane\", \"last_name\":\"Doe\", \"age\":25, \"city\":\"Chicago\"}'\n",
        "\n",
        "# Read JSON data\n",
        "y = json.loads(x)\n",
        "\n",
        "# Print the output, which is similar to a dictonary\n",
        "print(\"Employee name is \"+ y[\"first_name\"] + \" \" + y[\"last_name\"])"
      ],
      "execution_count": null,
      "outputs": []
    },
    {
      "cell_type": "markdown",
      "metadata": {
        "id": "zQ-09ul6-0_9"
      },
      "source": [
        "<a id='section7'></a>\n",
        "\n",
        "## 7. Loops\n",
        "**If, Else, ElIf loop**: Python supports conditional statements like any other programming language. Python relies on indentation (whitespace at the begining of the line) to define the scope of the code. "
      ]
    },
    {
      "cell_type": "code",
      "metadata": {
        "id": "Ar6uAPT2-0_-"
      },
      "source": [
        "a = 22\n",
        "b = 33\n",
        "c = 100\n",
        "\n",
        "# if ... else example\n",
        "if a > b:\n",
        "    print(\"a is greater than b\")\n",
        "else:\n",
        "    print(\"b is greater than a\")\n",
        "    \n",
        "    \n",
        "# if .. else .. elif example\n",
        "\n",
        "if a > b:\n",
        "    print(\"a is greater than b\")\n",
        "elif b > c:\n",
        "    print(\"b is greater than c\")\n",
        "else:\n",
        "    print(\"b is greater than a and c is greater than b\")"
      ],
      "execution_count": null,
      "outputs": []
    },
    {
      "cell_type": "markdown",
      "metadata": {
        "id": "DAqOjBsN-1AD"
      },
      "source": [
        "**While loop:** Runs a set of statements as long as the condition is true"
      ]
    },
    {
      "cell_type": "code",
      "metadata": {
        "id": "1qH-BSjU-1AD"
      },
      "source": [
        "# Sample while example\n",
        "i = 1\n",
        "while i < 10:\n",
        "    print(\"count is \" + str(i))\n",
        "    i += 1\n",
        "\n",
        "print(\"=\"*10)\n",
        "\n",
        "# Continue to next iteration if x is 2. Finally, print message once the condition is false.\n",
        "\n",
        "x = 0\n",
        "while x < 5:\n",
        "    x += 1\n",
        "    if x == 2:\n",
        "        continue\n",
        "    print(x)\n",
        "else:\n",
        "    print(\"x is no longer less than 5\")"
      ],
      "execution_count": null,
      "outputs": []
    },
    {
      "cell_type": "markdown",
      "metadata": {
        "id": "4MvmYCFo-1AG"
      },
      "source": [
        "**For loop:** A `For` loop is more like an iterator in Python. A `For` loop is used for iterating over a sequence (list, tuple, dictionay, set, string, or range)."
      ]
    },
    {
      "cell_type": "code",
      "metadata": {
        "id": "yK3N_Xw4-1AH"
      },
      "source": [
        "# Sample for loop examples\n",
        "fruits = [\"orange\", \"banana\", \"apple\", \"grape\", \"cherry\"]\n",
        "for fruit in fruits:\n",
        "    print(fruit)\n",
        "\n",
        "print(\"\\n\")\n",
        "print(\"=\"*10)\n",
        "print(\"\\n\")\n",
        "\n",
        "# Iterating range\n",
        "for x in range(1, 10, 2):\n",
        "    print(x)\n",
        "else:\n",
        "    print(\"task complete\")\n",
        "\n",
        "print(\"\\n\")\n",
        "print(\"=\"*10)\n",
        "print(\"\\n\")\n",
        "\n",
        "# Iterating multiple lists\n",
        "traffic_lights = [\"red\", \"yellow\", \"green\"]\n",
        "action = [\"stop\", \"slow down\", \"go\"]\n",
        "\n",
        "for light in traffic_lights:\n",
        "    for task in action:\n",
        "        print(light, task)"
      ],
      "execution_count": null,
      "outputs": []
    },
    {
      "cell_type": "markdown",
      "metadata": {
        "id": "xMAMFTo9-1AK"
      },
      "source": [
        "<a id='section8'></a>\n",
        "\n",
        "## 8. File handling\n",
        "The key function for working with files in Python is the `open()` function. The `open()` function takes two parameters: filename and mode.\n",
        "\n",
        "There are four different methods (modes) for opening a file:\n",
        "\n",
        "- \"r\" - Read\n",
        "- \"a\" - Append\n",
        "- \"w\" - Write\n",
        "- \"x\" - Create\n",
        "\n",
        "In addition, you can specify if the file should be handled in binary or text mode.\n",
        "\n",
        "- \"t\" - Text\n",
        "- \"b\" - Binary"
      ]
    },
    {
      "cell_type": "code",
      "metadata": {
        "id": "vMYpQFBI-1AL"
      },
      "source": [
        "# Let's create a test text file\n",
        "!echo \"This is a test file with text in it. This is the first line.\" > test.txt\n",
        "!echo \"This is the second line.\" >> test.txt\n",
        "!echo \"This is the third line.\" >> test.txt"
      ],
      "execution_count": null,
      "outputs": []
    },
    {
      "cell_type": "code",
      "metadata": {
        "id": "B5qe83Y5-1AO"
      },
      "source": [
        "# Read file\n",
        "file = open('test.txt', 'r')\n",
        "print(file.read())\n",
        "file.close()\n",
        "\n",
        "print(\"\\n\")\n",
        "print(\"=\"*10)\n",
        "print(\"\\n\")\n",
        "\n",
        "# Read first 10 characters of the file\n",
        "file = open('test.txt', 'r')\n",
        "print(file.read(10))\n",
        "file.close()\n",
        "\n",
        "print(\"\\n\")\n",
        "print(\"=\"*10)\n",
        "print(\"\\n\")\n",
        "\n",
        "# Read line from the file\n",
        "\n",
        "file = open('test.txt', 'r')\n",
        "print(file.readline())\n",
        "file.close()"
      ],
      "execution_count": null,
      "outputs": []
    },
    {
      "cell_type": "code",
      "metadata": {
        "id": "krUPIhWr-1AR"
      },
      "source": [
        "# Create new file\n",
        "\n",
        "file = open('test2.txt', 'w')\n",
        "file.write(\"This is content in the new test2 file.\")\n",
        "file.close()\n",
        "\n",
        "# Read the content of the new file\n",
        "file = open('test2.txt', 'r')\n",
        "print(file.read())\n",
        "file.close()"
      ],
      "execution_count": null,
      "outputs": []
    },
    {
      "cell_type": "code",
      "metadata": {
        "id": "R8H6gibO-1AU"
      },
      "source": [
        "# Update file\n",
        "file = open('test2.txt', 'a')\n",
        "file.write(\"\\nThis is additional content in the new file.\")\n",
        "file.close()\n",
        "\n",
        "# Read the content of the new file\n",
        "file = open('test2.txt', 'r')\n",
        "print(file.read())\n",
        "file.close()"
      ],
      "execution_count": null,
      "outputs": []
    },
    {
      "cell_type": "code",
      "metadata": {
        "id": "B0qTTYri-1AX"
      },
      "source": [
        "# Delete file\n",
        "import os\n",
        "file_names = [\"test.txt\", \"test2.txt\"]\n",
        "for item in file_names:\n",
        "    if os.path.exists(item):\n",
        "        os.remove(item)\n",
        "        print(f\"File {item} removed successfully!\")\n",
        "    else:\n",
        "        print(f\"{item} file does not exist.\")"
      ],
      "execution_count": null,
      "outputs": []
    },
    {
      "cell_type": "markdown",
      "metadata": {
        "id": "BbtOVzx8-1Ab"
      },
      "source": [
        "<a id='section9'></a>\n",
        "\n",
        "## 9. Functions\n",
        "\n",
        "A function is a block of code that runs when it is called. You can pass data, or *parameters*, into the function. In Python, a function is defined by `def`."
      ]
    },
    {
      "cell_type": "code",
      "metadata": {
        "id": "nD9JsyK2-1Ac"
      },
      "source": [
        "# Defining a function\n",
        "def new_funct():\n",
        "    print(\"A simple function\")\n",
        "\n",
        "# Calling the function\n",
        "new_funct()"
      ],
      "execution_count": null,
      "outputs": []
    },
    {
      "cell_type": "code",
      "metadata": {
        "id": "AuRKfa-k-1Af"
      },
      "source": [
        "# Sample fuction with parameters\n",
        "\n",
        "def param_funct(first_name):\n",
        "    print(f\"Employee name is {first_name}.\")\n",
        "\n",
        "param_funct(\"Harry\")\n",
        "param_funct(\"Larry\")\n",
        "param_funct(\"Shally\")"
      ],
      "execution_count": null,
      "outputs": []
    },
    {
      "cell_type": "markdown",
      "metadata": {
        "id": "wfuj7v5i-1Ai"
      },
      "source": [
        "**Anonymous functions (lambda):** A lambda is a small anonymous function. A lambda function can take any number of arguments but only one expression."
      ]
    },
    {
      "cell_type": "code",
      "metadata": {
        "id": "cjVsd2kO-1Aj"
      },
      "source": [
        "# Sample lambda example\n",
        "x = lambda y: y + 100\n",
        "print(x(15))\n",
        "\n",
        "print(\"\\n\")\n",
        "print(\"=\"*10)\n",
        "print(\"\\n\")\n",
        "\n",
        "x = lambda a, b: a*b/100\n",
        "print(x(2,4))"
      ],
      "execution_count": null,
      "outputs": []
    },
    {
      "cell_type": "markdown",
      "metadata": {
        "id": "O3JWTdD7-1Am"
      },
      "source": [
        "<a id='section10'></a>\n",
        "\n",
        "## 10. Working with datetime \n",
        "\n",
        "A `datetime` module in Python can be used to work with date objects."
      ]
    },
    {
      "cell_type": "code",
      "metadata": {
        "id": "VqUYeA2_-1An"
      },
      "source": [
        "import datetime\n",
        "\n",
        "x = datetime.datetime.now()\n",
        "\n",
        "print(x)\n",
        "print(x.year)\n",
        "print(x.strftime(\"%A\"))\n",
        "print(x.strftime(\"%B\"))\n",
        "print(x.strftime(\"%d\"))\n",
        "print(x.strftime(\"%H:%M:%S %p\"))"
      ],
      "execution_count": null,
      "outputs": []
    },
    {
      "cell_type": "markdown",
      "metadata": {
        "id": "3pLKTb5q-1Ap"
      },
      "source": [
        "<a id='section11'></a>\n",
        "\n",
        "## 11. NumPy\n",
        "\n",
        "NumPy is the fundamental package for scientific computing with Python. Among other things, it contains:\n",
        "\n",
        "- Powerful N-dimensional array object\n",
        "- Sophisticated (broadcasting) functions\n",
        "- Tools for integrating C/C++ and Fortran code\n",
        "- Useful linear algebra, Fourier transform, and random number capabilities"
      ]
    },
    {
      "cell_type": "code",
      "metadata": {
        "id": "6oqrbsti-1Aq"
      },
      "source": [
        "# Install NumPy using pip\n",
        "!pip install --upgrade pip\n",
        "!pip install numpy"
      ],
      "execution_count": null,
      "outputs": []
    },
    {
      "cell_type": "code",
      "metadata": {
        "id": "89RCD7WS-1Au"
      },
      "source": [
        "# Import NumPy module\n",
        "import numpy as np"
      ],
      "execution_count": null,
      "outputs": []
    },
    {
      "cell_type": "markdown",
      "metadata": {
        "id": "Fzi3P5wB-1Ax"
      },
      "source": [
        "### Inspecting your array"
      ]
    },
    {
      "cell_type": "code",
      "metadata": {
        "id": "1dD0SDhE-1Ax"
      },
      "source": [
        "# Create array\n",
        "a = np.arange(15).reshape(3, 5) # Create array with range 0-14 in 3 by 5 dimension\n",
        "b = np.zeros((3,5)) # Create array with zeroes\n",
        "c = np.ones( (2,3,4), dtype=np.int16 ) # Createarray with ones and defining data types\n",
        "d = np.ones((3,5))"
      ],
      "execution_count": null,
      "outputs": []
    },
    {
      "cell_type": "code",
      "metadata": {
        "id": "cDluDG0k-1A0"
      },
      "source": [
        "a.shape # Array dimension"
      ],
      "execution_count": null,
      "outputs": []
    },
    {
      "cell_type": "code",
      "metadata": {
        "id": "ipTAGgrH-1A3"
      },
      "source": [
        "len(b)# Length of array"
      ],
      "execution_count": null,
      "outputs": []
    },
    {
      "cell_type": "code",
      "metadata": {
        "id": "NhL734rO-1A6"
      },
      "source": [
        "c.ndim # Number of array dimensions"
      ],
      "execution_count": null,
      "outputs": []
    },
    {
      "cell_type": "code",
      "metadata": {
        "id": "2PU73wEX-1A8"
      },
      "source": [
        "a.size # Number of array elements"
      ],
      "execution_count": null,
      "outputs": []
    },
    {
      "cell_type": "code",
      "metadata": {
        "id": "50xHsRFu-1A_"
      },
      "source": [
        "b.dtype # Data type of array elements"
      ],
      "execution_count": null,
      "outputs": []
    },
    {
      "cell_type": "code",
      "metadata": {
        "id": "YGUOBhly-1BC"
      },
      "source": [
        "c.dtype.name # Name of data type"
      ],
      "execution_count": null,
      "outputs": []
    },
    {
      "cell_type": "code",
      "metadata": {
        "id": "KqNs-4HR-1BF"
      },
      "source": [
        "c.astype(float) # Convert an array type to a different type"
      ],
      "execution_count": null,
      "outputs": []
    },
    {
      "cell_type": "markdown",
      "metadata": {
        "id": "WIg5AVPo-1BJ"
      },
      "source": [
        "### Basic math operations"
      ]
    },
    {
      "cell_type": "code",
      "metadata": {
        "id": "pX558zse-1BJ"
      },
      "source": [
        "# Create array\n",
        "a = np.arange(15).reshape(3, 5) # Create array with range 0-14 in 3 by 5 dimension\n",
        "b = np.zeros((3,5)) # Create array with zeroes\n",
        "c = np.ones( (2,3,4), dtype=np.int16 ) # Createarray with ones and defining data types\n",
        "d = np.ones((3,5))"
      ],
      "execution_count": null,
      "outputs": []
    },
    {
      "cell_type": "code",
      "metadata": {
        "id": "C-vJf5LY-1BN"
      },
      "source": [
        "np.add(a,b) # Addition"
      ],
      "execution_count": null,
      "outputs": []
    },
    {
      "cell_type": "code",
      "metadata": {
        "id": "StrlyqA6-1BR"
      },
      "source": [
        "np.subtract(a,b) # Substraction"
      ],
      "execution_count": null,
      "outputs": []
    },
    {
      "cell_type": "code",
      "metadata": {
        "id": "EpXQOcFt-1BW"
      },
      "source": [
        "np.divide(a,d) # Division"
      ],
      "execution_count": null,
      "outputs": []
    },
    {
      "cell_type": "code",
      "metadata": {
        "id": "tHeTUTON-1Ba"
      },
      "source": [
        "np.multiply(a,d) # Multiplication"
      ],
      "execution_count": null,
      "outputs": []
    },
    {
      "cell_type": "code",
      "metadata": {
        "id": "eT_s2ktl-1Bg"
      },
      "source": [
        "np.array_equal(a,b) # Comparison - arraywise"
      ],
      "execution_count": null,
      "outputs": []
    },
    {
      "cell_type": "markdown",
      "metadata": {
        "id": "L9nHysjL-1Bi"
      },
      "source": [
        "### Aggregate functions"
      ]
    },
    {
      "cell_type": "code",
      "metadata": {
        "id": "qq3ME81C-1Bj"
      },
      "source": [
        "# Create array\n",
        "a = np.arange(15).reshape(3, 5) # Create array with range 0-14 in 3 by 5 dimension\n",
        "b = np.zeros((3,5)) # Create array with zeroes\n",
        "c = np.ones( (2,3,4), dtype=np.int16 ) # Createarray with ones and defining data types\n",
        "d = np.ones((3,5))"
      ],
      "execution_count": null,
      "outputs": []
    },
    {
      "cell_type": "code",
      "metadata": {
        "id": "dBL5VkQa-1Bm"
      },
      "source": [
        "a.sum() # Array-wise sum"
      ],
      "execution_count": null,
      "outputs": []
    },
    {
      "cell_type": "code",
      "metadata": {
        "id": "CSHGPDIz-1Br"
      },
      "source": [
        "a.min() # Array-wise min value"
      ],
      "execution_count": null,
      "outputs": []
    },
    {
      "cell_type": "code",
      "metadata": {
        "id": "mMMYH2PG-1Bu"
      },
      "source": [
        "a.mean() # Array-wise mean"
      ],
      "execution_count": null,
      "outputs": []
    },
    {
      "cell_type": "code",
      "metadata": {
        "id": "konEUFF7-1By"
      },
      "source": [
        "a.max(axis=0) # Max value of array row"
      ],
      "execution_count": null,
      "outputs": []
    },
    {
      "cell_type": "code",
      "metadata": {
        "id": "h_WWl9uK-1B0"
      },
      "source": [
        "np.std(a) # Standard deviation"
      ],
      "execution_count": null,
      "outputs": []
    },
    {
      "cell_type": "markdown",
      "metadata": {
        "id": "vxydHshE-1B5"
      },
      "source": [
        "### Subsetting, slicing, and indexing"
      ]
    },
    {
      "cell_type": "code",
      "metadata": {
        "id": "Fu7_HgBR-1B6"
      },
      "source": [
        "# Create array\n",
        "a = np.arange(15).reshape(3, 5) # Create array with range 0-14 in 3 by 5 dimension\n",
        "b = np.zeros((3,5)) # Create array with zeroes\n",
        "c = np.ones( (2,3,4), dtype=np.int16 ) # Createarray with ones and defining data types\n",
        "d = np.ones((3,5))"
      ],
      "execution_count": null,
      "outputs": []
    },
    {
      "cell_type": "code",
      "metadata": {
        "id": "1zQqzuT9-1B-"
      },
      "source": [
        "a[1,2] # Select element of row 1 and column 2"
      ],
      "execution_count": null,
      "outputs": []
    },
    {
      "cell_type": "code",
      "metadata": {
        "id": "Wtkiayy7-1CB"
      },
      "source": [
        "a[0:2] # Select items on index 0 and 1"
      ],
      "execution_count": null,
      "outputs": []
    },
    {
      "cell_type": "code",
      "metadata": {
        "id": "20670hXe-1CE"
      },
      "source": [
        "a[:1] # Select all items at row 0"
      ],
      "execution_count": null,
      "outputs": []
    },
    {
      "cell_type": "code",
      "metadata": {
        "id": "7qJUupKw-1CK"
      },
      "source": [
        "a[-1:] # Select all items from last row"
      ],
      "execution_count": null,
      "outputs": []
    },
    {
      "cell_type": "code",
      "metadata": {
        "id": "b_cQ52fv-1CL"
      },
      "source": [
        "a[a<2] # Select elements from 'a' that are less than 2"
      ],
      "execution_count": null,
      "outputs": []
    },
    {
      "cell_type": "markdown",
      "metadata": {
        "id": "-LugrfPC-1CN"
      },
      "source": [
        "### Array manipulation"
      ]
    },
    {
      "cell_type": "code",
      "metadata": {
        "id": "2JbRO7fm-1CO"
      },
      "source": [
        "# Create array\n",
        "a = np.arange(15).reshape(3, 5) # Create array with range 0-14 in 3 by 5 dimension\n",
        "b = np.zeros((3,5)) # Create array with zeroes\n",
        "c = np.ones( (2,3,4), dtype=np.int16 ) # Createarray with ones and defining data types\n",
        "d = np.ones((3,5))"
      ],
      "execution_count": null,
      "outputs": []
    },
    {
      "cell_type": "code",
      "metadata": {
        "id": "9gjo1Lik-1CR"
      },
      "source": [
        "np.transpose(a) # Transpose array 'a'"
      ],
      "execution_count": null,
      "outputs": []
    },
    {
      "cell_type": "code",
      "metadata": {
        "id": "XUhnAsPv-1CT"
      },
      "source": [
        "a.ravel() # Flatten the array"
      ],
      "execution_count": null,
      "outputs": []
    },
    {
      "cell_type": "code",
      "metadata": {
        "id": "Lzzn12ag-1CX"
      },
      "source": [
        "a.reshape(5,-2) # Reshape but don't change the data"
      ],
      "execution_count": null,
      "outputs": []
    },
    {
      "cell_type": "code",
      "metadata": {
        "id": "TyrB3h_s-1CZ"
      },
      "source": [
        "np.append(a,b) # Append items to the array"
      ],
      "execution_count": null,
      "outputs": []
    },
    {
      "cell_type": "code",
      "metadata": {
        "id": "pObATiPX-1Cb"
      },
      "source": [
        "np.concatenate((a,d), axis=0) # Concatenate arrays"
      ],
      "execution_count": null,
      "outputs": []
    },
    {
      "cell_type": "code",
      "metadata": {
        "id": "Rz0f8Zsa-1Cd"
      },
      "source": [
        "np.vsplit(a,3) # Split array vertically at 3rd index"
      ],
      "execution_count": null,
      "outputs": []
    },
    {
      "cell_type": "code",
      "metadata": {
        "id": "JIr063Dp-1Cf"
      },
      "source": [
        "np.hsplit(a,5) # Split array horizontally at 5th index"
      ],
      "execution_count": null,
      "outputs": []
    },
    {
      "cell_type": "markdown",
      "metadata": {
        "id": "i3FUJrsl-1Cg"
      },
      "source": [
        "<a id='section12'></a>\n",
        "\n",
        "## Pandas\n",
        "\n",
        "Pandas is an open source, BSD-licensed library providing high-performance, easy-to-use data structures and data analysis tools for the Python programming language.\n",
        "\n",
        "Pandas DataFrames are the most widely used in-memory representation of complex data collections within Python."
      ]
    },
    {
      "cell_type": "code",
      "metadata": {
        "id": "LvZwdp60-1Ch"
      },
      "source": [
        "# Install pandas, xlrd, and openpyxl using pip\n",
        "!pip install pandas\n",
        "!pip install xlrd openpyxl"
      ],
      "execution_count": null,
      "outputs": []
    },
    {
      "cell_type": "code",
      "metadata": {
        "id": "fLil4D0I-1Ci"
      },
      "source": [
        "# Import NumPy and Pandas modules\n",
        "import numpy as np\n",
        "import pandas as pd"
      ],
      "execution_count": null,
      "outputs": []
    },
    {
      "cell_type": "code",
      "metadata": {
        "id": "L0OGBp5m-1Ck"
      },
      "source": [
        "# Sample dataframe df\n",
        "df = pd.DataFrame({'num_legs': [2, 4, np.nan, 0],\n",
        "                   'num_wings': [2, 0, 0, 0],\n",
        "                   'num_specimen_seen': [10, np.nan, 1, 8]},\n",
        "                   index=['falcon', 'dog', 'spider', 'fish'])\n",
        "df # Display dataframe df"
      ],
      "execution_count": null,
      "outputs": []
    },
    {
      "cell_type": "code",
      "metadata": {
        "id": "hp7nLM7P-1Cm"
      },
      "source": [
        "# Another sample dataframe df1 - using NumPy array with datetime index and labeled column\n",
        "df1 = pd.date_range('20130101', periods=6)\n",
        "df1 = pd.DataFrame(np.random.randn(6, 4), index=df1, columns=list('ABCD'))\n",
        "df1 # Display dataframe df1"
      ],
      "execution_count": null,
      "outputs": []
    },
    {
      "cell_type": "markdown",
      "metadata": {
        "id": "fr9hRwcU-1Cp"
      },
      "source": [
        "### Viewing data"
      ]
    },
    {
      "cell_type": "code",
      "metadata": {
        "id": "8QZYMiBK-1Cp"
      },
      "source": [
        "df1 = pd.date_range('20130101', periods=6)\n",
        "df1 = pd.DataFrame(np.random.randn(6, 4), index=df1, columns=list('ABCD'))"
      ],
      "execution_count": null,
      "outputs": []
    },
    {
      "cell_type": "code",
      "metadata": {
        "id": "L20xJACW-1Cr"
      },
      "source": [
        "df1.head(2) # View top data"
      ],
      "execution_count": null,
      "outputs": []
    },
    {
      "cell_type": "code",
      "metadata": {
        "id": "PzBdh4M2-1Ct"
      },
      "source": [
        "df1.tail(2) # View bottom data"
      ],
      "execution_count": null,
      "outputs": []
    },
    {
      "cell_type": "code",
      "metadata": {
        "id": "n5zsggXz-1Cu"
      },
      "source": [
        "df1.index # Display index column"
      ],
      "execution_count": null,
      "outputs": []
    },
    {
      "cell_type": "code",
      "metadata": {
        "id": "lcFZ1bfN-1Cw"
      },
      "source": [
        "df1.dtypes # Inspect datatypes"
      ],
      "execution_count": null,
      "outputs": []
    },
    {
      "cell_type": "code",
      "metadata": {
        "id": "YRpEF9nX-1Cz"
      },
      "source": [
        "df1.describe() # Display quick statistics summary of data"
      ],
      "execution_count": null,
      "outputs": []
    },
    {
      "cell_type": "markdown",
      "metadata": {
        "id": "KoBd4Xsq-1C2"
      },
      "source": [
        "### Subsetting, slicing, and indexing"
      ]
    },
    {
      "cell_type": "code",
      "metadata": {
        "id": "ye12eTUD-1C2"
      },
      "source": [
        "df1 = pd.date_range('20130101', periods=6)\n",
        "df1 = pd.DataFrame(np.random.randn(6, 4), index=df1, columns=list('ABCD'))"
      ],
      "execution_count": null,
      "outputs": []
    },
    {
      "cell_type": "code",
      "metadata": {
        "id": "Ollmx6Qs-1C5"
      },
      "source": [
        "df1.T # Transpose data"
      ],
      "execution_count": null,
      "outputs": []
    },
    {
      "cell_type": "code",
      "metadata": {
        "id": "n4HEjnB1-1C7"
      },
      "source": [
        "df1.sort_index(axis=1, ascending=False) # Sort by an axis"
      ],
      "execution_count": null,
      "outputs": []
    },
    {
      "cell_type": "code",
      "metadata": {
        "id": "c2tpCMK1-1C9"
      },
      "source": [
        "df1.sort_values(by='B') # Sort by values"
      ],
      "execution_count": null,
      "outputs": []
    },
    {
      "cell_type": "code",
      "metadata": {
        "id": "xL7uNFU1-1C_"
      },
      "source": [
        "df1['A'] # Select column A"
      ],
      "execution_count": null,
      "outputs": []
    },
    {
      "cell_type": "code",
      "metadata": {
        "id": "9P90VDWv-1DD"
      },
      "source": [
        "df1[0:3] # Select index 0 to 2"
      ],
      "execution_count": null,
      "outputs": []
    },
    {
      "cell_type": "code",
      "metadata": {
        "id": "32vAuQJ1-1DF"
      },
      "source": [
        "df1['20130102':'20130104'] # Select from index matching the values"
      ],
      "execution_count": null,
      "outputs": []
    },
    {
      "cell_type": "code",
      "metadata": {
        "id": "dXdCMyQs-1DH"
      },
      "source": [
        "df1.loc[:, ['A', 'B']] # Select on a multi-axis by label"
      ],
      "execution_count": null,
      "outputs": []
    },
    {
      "cell_type": "code",
      "metadata": {
        "id": "sNKblQLX-1DK"
      },
      "source": [
        "df1.iloc[3] # Select via the position of the passed integers"
      ],
      "execution_count": null,
      "outputs": []
    },
    {
      "cell_type": "code",
      "metadata": {
        "id": "ybdcix_1-1DL"
      },
      "source": [
        "df1[df1 > 0] # Select values from a DataFrame where a boolean condition is met"
      ],
      "execution_count": null,
      "outputs": []
    },
    {
      "cell_type": "code",
      "metadata": {
        "id": "avOnyx9R-1DN"
      },
      "source": [
        "df2 = df1.copy() # Copy the df1 dataset to df2\n",
        "df2['E'] = ['one', 'one', 'two', 'three', 'four', 'three'] # Add column E with value\n",
        "df2[df2['E'].isin(['two', 'four'])] # Use isin method for filtering"
      ],
      "execution_count": null,
      "outputs": []
    },
    {
      "cell_type": "markdown",
      "metadata": {
        "id": "Lm1sE65C-1DO"
      },
      "source": [
        "### Missing data\n",
        "\n",
        "Pandas primarily uses the value `np.nan` to represent missing data. It is not included in computations by default."
      ]
    },
    {
      "cell_type": "code",
      "metadata": {
        "id": "QenDIbEI-1DP"
      },
      "source": [
        "df = pd.DataFrame({'num_legs': [2, 4, np.nan, 0],\n",
        "                   'num_wings': [2, 0, 0, 0],\n",
        "                   'num_specimen_seen': [10, np.nan, 1, 8]},\n",
        "                   index=['falcon', 'dog', 'spider', 'fish'])"
      ],
      "execution_count": null,
      "outputs": []
    },
    {
      "cell_type": "code",
      "metadata": {
        "id": "XxF_U6rP-1DQ"
      },
      "source": [
        "df.dropna(how='any') # Drop any rows that have missing data"
      ],
      "execution_count": null,
      "outputs": []
    },
    {
      "cell_type": "code",
      "metadata": {
        "id": "JbYVeET2-1DS"
      },
      "source": [
        "df.dropna(how='any', axis=1) # Drop any columns that have missing data"
      ],
      "execution_count": null,
      "outputs": []
    },
    {
      "cell_type": "code",
      "metadata": {
        "id": "S0Zb2bPM-1DT"
      },
      "source": [
        "df.fillna(value=5) # Fill missing data with value 5"
      ],
      "execution_count": null,
      "outputs": []
    },
    {
      "cell_type": "code",
      "metadata": {
        "id": "eZZHyqgX-1DV"
      },
      "source": [
        "pd.isna(df) # To get boolean mask where data is missing"
      ],
      "execution_count": null,
      "outputs": []
    },
    {
      "cell_type": "markdown",
      "metadata": {
        "id": "aLgJdC-Q-1DX"
      },
      "source": [
        "### File handling"
      ]
    },
    {
      "cell_type": "code",
      "metadata": {
        "id": "vbPk1ZEo-1DX"
      },
      "source": [
        "df = pd.DataFrame({'num_legs': [2, 4, np.nan, 0],\n",
        "                   'num_wings': [2, 0, 0, 0],\n",
        "                   'num_specimen_seen': [10, np.nan, 1, 8]},\n",
        "                   index=['falcon', 'dog', 'spider', 'fish'])"
      ],
      "execution_count": null,
      "outputs": []
    },
    {
      "cell_type": "code",
      "metadata": {
        "id": "UfFzetb0-1DZ"
      },
      "source": [
        "df.to_csv('foo.csv') # Write to CSV file"
      ],
      "execution_count": null,
      "outputs": []
    },
    {
      "cell_type": "code",
      "metadata": {
        "id": "Lc-5IiZ3-1Da"
      },
      "source": [
        "pd.read_csv('foo.csv') # Read from CSV file"
      ],
      "execution_count": null,
      "outputs": []
    },
    {
      "cell_type": "code",
      "metadata": {
        "id": "9-IpDu-k-1Dd"
      },
      "source": [
        "df.to_excel('foo.xlsx', sheet_name='Sheet1') # Write to Microsoft Excel file"
      ],
      "execution_count": null,
      "outputs": []
    },
    {
      "cell_type": "code",
      "metadata": {
        "id": "CXO_a3NJ-1Df"
      },
      "source": [
        "pd.read_excel('foo.xlsx', 'Sheet1', index_col=None, na_values=['NA']) # Read from Microsoft Excel file"
      ],
      "execution_count": null,
      "outputs": []
    },
    {
      "cell_type": "markdown",
      "metadata": {
        "id": "Bm1xcI61-1Dh"
      },
      "source": [
        "### Plotting"
      ]
    },
    {
      "cell_type": "code",
      "metadata": {
        "id": "543C8BvO-1Dh"
      },
      "source": [
        "# Install Matplotlib using pip\n",
        "!pip install matplotlib"
      ],
      "execution_count": null,
      "outputs": []
    },
    {
      "cell_type": "code",
      "metadata": {
        "id": "UKPw7a5q-1Dj"
      },
      "source": [
        "from matplotlib import pyplot as plt # Import Matplotlib module"
      ],
      "execution_count": null,
      "outputs": []
    },
    {
      "cell_type": "code",
      "metadata": {
        "id": "i-VaPmbP-1Dk"
      },
      "source": [
        "# Generate random time-series data\n",
        "ts = pd.Series(np.random.randn(1000),index=pd.date_range('1/1/2000', periods=1000)) \n",
        "ts.head()"
      ],
      "execution_count": null,
      "outputs": []
    },
    {
      "cell_type": "code",
      "metadata": {
        "id": "jyT-NDAi-1Dm"
      },
      "source": [
        "ts = ts.cumsum()\n",
        "ts.plot() # Plot graph\n",
        "plt.show()"
      ],
      "execution_count": null,
      "outputs": []
    },
    {
      "cell_type": "code",
      "metadata": {
        "id": "Iuohd2OT-1Dn"
      },
      "source": [
        "# On a DataFrame, the plot() method is convenient to plot all of the columns with labels\n",
        "df4 = pd.DataFrame(np.random.randn(1000, 4), index=ts.index,columns=['A', 'B', 'C', 'D'])\n",
        "df4 = df4.cumsum()\n",
        "df4.head()"
      ],
      "execution_count": null,
      "outputs": []
    },
    {
      "cell_type": "code",
      "metadata": {
        "id": "nYweQ90k-1Do"
      },
      "source": [
        "df4.plot()\n",
        "plt.show()"
      ],
      "execution_count": null,
      "outputs": []
    }
  ]
}