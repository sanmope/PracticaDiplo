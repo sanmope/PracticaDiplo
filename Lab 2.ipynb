{
  "nbformat": 4,
  "nbformat_minor": 0,
  "metadata": {
    "kernelspec": {
      "display_name": "Python 3",
      "language": "python",
      "name": "python3"
    },
    "language_info": {
      "codemirror_mode": {
        "name": "ipython",
        "version": 3
      },
      "file_extension": ".py",
      "mimetype": "text/x-python",
      "name": "python",
      "nbconvert_exporter": "python",
      "pygments_lexer": "ipython3",
      "version": "3.6.5"
    },
    "colab": {
      "name": "Lab 2.ipynb",
      "provenance": []
    }
  },
  "cells": [
    {
      "cell_type": "markdown",
      "metadata": {
        "id": "oDqHELgcuqe6",
        "colab_type": "text"
      },
      "source": [
        "# Laboratorio 2: Armado de un esquema de aprendizaje automático\n",
        "\n",
        "En el laboratorio final se espera que puedan poner en práctica los conocimientos adquiridos en el curso, trabajando con un conjunto de datos de clasificación.\n",
        "\n",
        "El objetivo es que se introduzcan en el desarrollo de un esquema para hacer tareas de aprendizaje automático: selección de un modelo, ajuste de hiperparámetros y evaluación.\n",
        "\n",
        "El conjunto de datos a utilizar está en `./data/loan_data.csv`. Si abren el archivo verán que al principio (las líneas que empiezan con `#`) describen el conjunto de datos y sus atributos (incluyendo el atributo de etiqueta o clase).\n",
        "\n",
        "Se espera que hagan uso de las herramientas vistas en el curso. Se espera que hagan uso especialmente de las herramientas brindadas por `scikit-learn`."
      ]
    },
    {
      "cell_type": "code",
      "metadata": {
        "id": "NDFAve7cuqe7",
        "colab_type": "code",
        "colab": {}
      },
      "source": [
        "import numpy as np\n",
        "import pandas as pd\n",
        "\n",
        "# TODO: Agregar las librerías que hagan falta\n",
        "from sklearn.model_selection import train_test_split"
      ],
      "execution_count": 1,
      "outputs": []
    },
    {
      "cell_type": "code",
      "metadata": {
        "id": "4jp3oTBwvHYn",
        "colab_type": "code",
        "colab": {}
      },
      "source": [
        "import sys\n",
        "in_colab = 'google.colab' in sys.modules\n",
        "if in_colab:\n",
        "  BASE_DIR = \"https://github.com/DiploDatos/IntroduccionAprendizajeAutomatico/raw/master/\"\n",
        "else:\n",
        "  BASE_DIR = \"..\"\n",
        "if 'utils' not in sys.modules:\n",
        "    !pip install 'utils'"
      ],
      "execution_count": null,
      "outputs": []
    },
    {
      "cell_type": "markdown",
      "metadata": {
        "id": "0zO6LBu_uqfA",
        "colab_type": "text"
      },
      "source": [
        "## Carga de datos y división en entrenamiento y evaluación\n",
        "\n",
        "La celda siguiente se encarga de la carga de datos (haciendo uso de pandas). Estos serán los que se trabajarán en el resto del laboratorio."
      ]
    },
    {
      "cell_type": "code",
      "metadata": {
        "id": "O4xvOfTruqfB",
        "colab_type": "code",
        "colab": {}
      },
      "source": [
        "dataset = pd.read_csv(\"https://raw.githubusercontent.com/DiploDatos/IntroduccionAprendizajeAutomatico/master/archive/2019/data/loan_data.csv\", comment=\"#\")\n",
        "\n",
        "# División entre instancias y etiquetas\n",
        "X, y = dataset.iloc[:, 1:], dataset.TARGET\n",
        "\n",
        "# división entre entrenamiento y evaluación\n",
        "X_train, X_test, y_train, y_test = train_test_split(X, y, test_size=0.2, random_state=0)"
      ],
      "execution_count": 2,
      "outputs": []
    },
    {
      "cell_type": "markdown",
      "metadata": {
        "id": "6h4zDJkguqfF",
        "colab_type": "text"
      },
      "source": [
        "\n",
        "Documentación:\n",
        "\n",
        "- https://scikit-learn.org/stable/modules/generated/sklearn.model_selection.train_test_split.html"
      ]
    },
    {
      "cell_type": "markdown",
      "metadata": {
        "id": "ZyC03IOEuqfG",
        "colab_type": "text"
      },
      "source": [
        "## Ejercicio 1: Descripción de los Datos y la Tarea\n",
        "\n",
        "Responder las siguientes preguntas:\n",
        "\n",
        "1. ¿De qué se trata el conjunto de datos?\n",
        "2. ¿Cuál es la variable objetivo que hay que predecir? ¿Qué significado tiene?\n",
        "3. ¿Qué información (atributos) hay disponible para hacer la predicción?\n",
        "4. ¿Qué atributos imagina ud. que son los más determinantes para la predicción?\n",
        "\n",
        "**No hace falta escribir código para responder estas preguntas.**\n",
        "\n",
        "1. El conjunto de datos HMEQ informa características e información de morosidad para 5960 préstamos con garantía hipotecaria.\n",
        "Un préstamo con garantía hipotecaria es un préstamo en el que el deudor utiliza el capital de su casa como garantía subyacente.\n",
        "2. La variable objetivo (BAD) es na variable binaria que muestra si el suscriptos del préstamo cumplió o no con los términos. 20% de los préstamos no cumplieron con el mismo.\n",
        "(1 = préstamo incumplido | 0 = préstamo pagado) \n",
        "3. Atributos: \n",
        "LOAN - PRÉSTAMO: monto de la solicitud de préstamo\n",
        "\n",
        "MORTDUE: Monto adeudado por hipoteca existente\n",
        "\n",
        "VALUE - VALOR: valor de la propiedad actual\n",
        "\n",
        "REASON - RAZÓN: DebtCon = consolidación de deuda; HomeImp = mejoras para el hogar\n",
        "\n",
        "JOB - TRABAJO: categorías ocupacionales\n",
        "\n",
        "YOJ: Años en el trabajo actual\n",
        "\n",
        "DEROG: número de informes despectivos importantes\n",
        "\n",
        "DELINQ: Número de líneas de crédito morosas\n",
        "\n",
        "CLAGE: Edad de la línea de crédito más antigua en meses.\n",
        "\n",
        "NINQ: número de consultas de crédito recientes\n",
        "\n",
        "CLNO: número de líneas de crédito\n",
        "\n",
        "DEBTINC - DEUDA: relación deuda-ingreso\n",
        "\n",
        "4. Los atributos que podrian ser más importantes son: DEBTINC, DELINQ, LOAN, MORTDUE"
      ]
    },
    {
      "cell_type": "markdown",
      "metadata": {
        "id": "unbSh8eCuqfH",
        "colab_type": "text"
      },
      "source": [
        "## Ejercicio 2: Predicción con Modelos Lineales\n",
        "\n",
        "En este ejercicio se entrenarán modelos lineales de clasificación para predecir la variable objetivo.\n",
        "\n",
        "Para ello, deberán utilizar la clase SGDClassifier de scikit-learn.\n",
        "\n",
        "Documentación:\n",
        "- https://scikit-learn.org/stable/modules/sgd.html\n",
        "- https://scikit-learn.org/stable/modules/generated/sklearn.linear_model.SGDClassifier.html\n"
      ]
    },
    {
      "cell_type": "markdown",
      "metadata": {
        "id": "2ZfrdhdluqfI",
        "colab_type": "text"
      },
      "source": [
        "### Ejercicio 2.1: SGDClassifier con hiperparámetros por defecto\n",
        "\n",
        "Entrenar y evaluar el clasificador SGDClassifier usando los valores por omisión de scikit-learn para todos los parámetros. Únicamente **fijar la semilla aleatoria** para hacer repetible el experimento.\n",
        "\n",
        "Evaluar sobre el conjunto de **entrenamiento** y sobre el conjunto de **evaluación**, reportando:\n",
        "- Accuracy\n",
        "- Precision\n",
        "- Recall\n",
        "- F1\n",
        "- matriz de confusión"
      ]
    },
    {
      "cell_type": "markdown",
      "metadata": {
        "id": "jXwzXkDduqfI",
        "colab_type": "text"
      },
      "source": [
        "### Ejercicio 2.2: Ajuste de Hiperparámetros\n",
        "\n",
        "Seleccionar valores para los hiperparámetros principales del SGDClassifier. Como mínimo, probar diferentes funciones de loss, tasas de entrenamiento y tasas de regularización.\n",
        "\n",
        "Para ello, usar grid-search y 5-fold cross-validation sobre el conjunto de entrenamiento para explorar muchas combinaciones posibles de valores.\n",
        "\n",
        "Reportar accuracy promedio y varianza para todas las configuraciones.\n",
        "\n",
        "Para la mejor configuración encontrada, evaluar sobre el conjunto de **entrenamiento** y sobre el conjunto de **evaluación**, reportando:\n",
        "- Accuracy\n",
        "- Precision\n",
        "- Recall\n",
        "- F1\n",
        "- matriz de confusión\n",
        "\n",
        "Documentación:\n",
        "- https://scikit-learn.org/stable/modules/grid_search.html\n",
        "- https://scikit-learn.org/stable/modules/generated/sklearn.model_selection.GridSearchCV.html"
      ]
    },
    {
      "cell_type": "markdown",
      "metadata": {
        "id": "_uYjpr4JuqfJ",
        "colab_type": "text"
      },
      "source": [
        "## Ejercicio 3: Árboles de Decisión\n",
        "\n",
        "En este ejercicio se entrenarán árboles de decisión para predecir la variable objetivo.\n",
        "\n",
        "Para ello, deberán utilizar la clase DecisionTreeClassifier de scikit-learn.\n",
        "\n",
        "Documentación:\n",
        "- https://scikit-learn.org/stable/modules/tree.html\n",
        "  - https://scikit-learn.org/stable/modules/tree.html#tips-on-practical-use\n",
        "- https://scikit-learn.org/stable/modules/generated/sklearn.tree.DecisionTreeClassifier.html\n",
        "- https://scikit-learn.org/stable/auto_examples/tree/plot_unveil_tree_structure.html"
      ]
    },
    {
      "cell_type": "markdown",
      "metadata": {
        "id": "QXTja1IwuqfJ",
        "colab_type": "text"
      },
      "source": [
        "### Ejercicio 3.1: DecisionTreeClassifier con hiperparámetros por defecto\n",
        "\n",
        "Entrenar y evaluar el clasificador DecisionTreeClassifier usando los valores por omisión de scikit-learn para todos los parámetros. Únicamente **fijar la semilla aleatoria** para hacer repetible el experimento.\n",
        "\n",
        "Evaluar sobre el conjunto de **entrenamiento** y sobre el conjunto de **evaluación**, reportando:\n",
        "- Accuracy\n",
        "- Precision\n",
        "- Recall\n",
        "- F1\n",
        "- matriz de confusión\n"
      ]
    },
    {
      "cell_type": "markdown",
      "metadata": {
        "id": "zZh1ttmxuqfK",
        "colab_type": "text"
      },
      "source": [
        "### Ejercicio 3.2: Ajuste de Hiperparámetros\n",
        "\n",
        "Seleccionar valores para los hiperparámetros principales del DecisionTreeClassifier. Como mínimo, probar diferentes criterios de partición (criterion), profundidad máxima del árbol (max_depth), y cantidad mínima de samples por hoja (min_samples_leaf).\n",
        "\n",
        "Para ello, usar grid-search y 5-fold cross-validation sobre el conjunto de entrenamiento para explorar muchas combinaciones posibles de valores.\n",
        "\n",
        "Reportar accuracy promedio y varianza para todas las configuraciones.\n",
        "\n",
        "Para la mejor configuración encontrada, evaluar sobre el conjunto de **entrenamiento** y sobre el conjunto de **evaluación**, reportando:\n",
        "- Accuracy\n",
        "- Precision\n",
        "- Recall\n",
        "- F1\n",
        "- matriz de confusión\n",
        "\n",
        "\n",
        "Documentación:\n",
        "- https://scikit-learn.org/stable/modules/grid_search.html\n",
        "- https://scikit-learn.org/stable/modules/generated/sklearn.model_selection.GridSearchCV.html"
      ]
    },
    {
      "cell_type": "markdown",
      "metadata": {
        "id": "d_z3eAsluqfK",
        "colab_type": "text"
      },
      "source": [
        "### Ejercicio 3.3: Inspección del Modelo"
      ]
    },
    {
      "cell_type": "code",
      "metadata": {
        "id": "VQwjMFreuqfL",
        "colab_type": "code",
        "colab": {}
      },
      "source": [
        ""
      ],
      "execution_count": null,
      "outputs": []
    }
  ]
}